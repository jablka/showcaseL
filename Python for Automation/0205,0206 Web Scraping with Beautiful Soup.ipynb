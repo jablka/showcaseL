{
 "cells": [
  {
   "cell_type": "code",
   "execution_count": 6,
   "metadata": {},
   "outputs": [],
   "source": [
    "from bs4 import BeautifulSoup\n",
    "import requests\n",
    "url = 'https://scrapingclub.com/exercise/list_basic/'\n",
    "response = requests.get(url)\n",
    "soup = BeautifulSoup(response.text, 'lxml')"
   ]
  },
  {
   "cell_type": "code",
   "execution_count": 7,
   "metadata": {},
   "outputs": [
    {
     "name": "stdout",
     "output_type": "stream",
     "text": [
      "1) Price: $24.99 , Item Name: Short Dress\n",
      "2) Price: $29.99 , Item Name: Patterned Slacks\n",
      "3) Price: $49.99 , Item Name: Short Chiffon Dress\n",
      "4) Price: $59.99 , Item Name: Off-the-shoulder Dress\n",
      "5) Price: $24.99 , Item Name: V-neck Top\n",
      "6) Price: $49.99 , Item Name: Short Chiffon Dress\n",
      "7) Price: $24.99 , Item Name: V-neck Top\n",
      "8) Price: $24.99 , Item Name: V-neck Top\n",
      "9) Price: $59.99 , Item Name: Short Lace Dress\n"
     ]
    }
   ],
   "source": [
    "count = 1\n",
    "items = soup.find_all('div', class_='col-lg-4 col-md-6 mb-4')\n",
    "for i in items:\n",
    "    itemName = i.find('h4', class_='card-title').text.strip('\\n')\n",
    "    itemPrice = i.find('h5').text\n",
    "    print('%s) Price: %s , Item Name: %s' % (count, itemPrice, itemName))\n",
    "    count = count + 1"
   ]
  },
  {
   "cell_type": "code",
   "execution_count": 8,
   "metadata": {},
   "outputs": [
    {
     "data": {
      "text/plain": [
       "<ul class=\"pagination\">\n",
       "<li class=\"page-item active\">\n",
       "<span class=\"page-link\">\n",
       "                    1\n",
       "                    <span class=\"sr-only\">(current)</span>\n",
       "</span>\n",
       "</li>\n",
       "<li class=\"page-item\"><a class=\"page-link\" href=\"?page=2\">2</a></li>\n",
       "<li class=\"page-item\"><a class=\"page-link\" href=\"?page=3\">3</a></li>\n",
       "<li class=\"page-item\"><a class=\"page-link\" href=\"?page=4\">4</a></li>\n",
       "<li class=\"page-item\"><a class=\"page-link\" href=\"?page=5\">5</a></li>\n",
       "<li class=\"page-item\"><a class=\"page-link\" href=\"?page=6\">6</a></li>\n",
       "<li class=\"page-item\"><a class=\"page-link\" href=\"?page=7\">7</a></li>\n",
       "<li class=\"page-item\"><a class=\"page-link\" href=\"?page=2\">Next</a></li>\n",
       "</ul>"
      ]
     },
     "execution_count": 8,
     "metadata": {},
     "output_type": "execute_result"
    }
   ],
   "source": [
    "pagination = soup.find('ul', class_='pagination')\n",
    "pagination"
   ]
  },
  {
   "cell_type": "code",
   "execution_count": 9,
   "metadata": {},
   "outputs": [
    {
     "data": {
      "text/plain": [
       "[<a class=\"page-link\" href=\"?page=2\">2</a>,\n",
       " <a class=\"page-link\" href=\"?page=3\">3</a>,\n",
       " <a class=\"page-link\" href=\"?page=4\">4</a>,\n",
       " <a class=\"page-link\" href=\"?page=5\">5</a>,\n",
       " <a class=\"page-link\" href=\"?page=6\">6</a>,\n",
       " <a class=\"page-link\" href=\"?page=7\">7</a>,\n",
       " <a class=\"page-link\" href=\"?page=2\">Next</a>]"
      ]
     },
     "execution_count": 9,
     "metadata": {},
     "output_type": "execute_result"
    }
   ],
   "source": [
    "pages = pagination.find_all('a', class_='page-link')\n",
    "pages"
   ]
  },
  {
   "cell_type": "code",
   "execution_count": 10,
   "metadata": {},
   "outputs": [
    {
     "name": "stdout",
     "output_type": "stream",
     "text": [
      "['?page=2', '?page=3', '?page=4', '?page=5', '?page=6', '?page=7']\n"
     ]
    }
   ],
   "source": [
    "# moje, zjednodušené:\n",
    "urls = []\n",
    "for page in pages:\n",
    "    if page.text.isdigit():\n",
    "        link = page.get('href')\n",
    "        urls.append(link)\n",
    "print(urls)"
   ]
  },
  {
   "cell_type": "code",
   "execution_count": 11,
   "metadata": {},
   "outputs": [
    {
     "name": "stdout",
     "output_type": "stream",
     "text": [
      "10) Price: $34.99 , Item Name: Fitted Dress\n",
      "11) Price: $69.99 , Item Name: V-neck Jumpsuit\n",
      "12) Price: $54.99 , Item Name: Chiffon Dress\n",
      "13) Price: $39.99 , Item Name: Skinny High Waist Jeans\n",
      "14) Price: $19.99 , Item Name: Super Skinny High Jeans\n",
      "15) Price: $19.99 , Item Name: Oversized Denim Jacket\n",
      "16) Price: $24.99 , Item Name: Short Sweatshirt\n",
      "17) Price: $12.99 , Item Name: Long-sleeved Jersey Top\n",
      "18) Price: $39.99 , Item Name: Skinny High Waist Jeans\n",
      "19) Price: $24.99 , Item Name: Short Sweatshirt\n",
      "20) Price: $12.99 , Item Name: Long-sleeved Jersey Top\n",
      "21) Price: $12.99 , Item Name: Long-sleeved Jersey Top\n",
      "22) Price: $19.99 , Item Name: Jersey Dress\n",
      "23) Price: $24.99 , Item Name: Short Sweatshirt\n",
      "24) Price: $24.99 , Item Name: Crinkled Flounced Blouse\n",
      "25) Price: $29.99 , Item Name: Bib Overall Dress\n",
      "26) Price: $17.99 , Item Name: Loose-knit Sweater\n",
      "27) Price: $29.99 , Item Name: Skinny Regular Jeans\n",
      "28) Price: $12.99 , Item Name: Henley-style Top\n",
      "29) Price: $17.99 , Item Name: Joggers\n",
      "30) Price: $34.99 , Item Name: Skirt with Lacing\n",
      "31) Price: $17.99 , Item Name: Top with Tie\n",
      "32) Price: $34.99 , Item Name: Joggers\n",
      "33) Price: $49.99 , Item Name: Chiffon Dress with Flounce\n",
      "34) Price: $34.99 , Item Name: Skirt with Lacing\n",
      "35) Price: $9.99 , Item Name: V-neck Top\n",
      "36) Price: $29.99 , Item Name: Hooded Jacket\n",
      "37) Price: $29.99 , Item Name: Hooded Top\n",
      "38) Price: $34.99 , Item Name: Lyocell-blend Blouse\n",
      "39) Price: $29.99 , Item Name: Bib Overall Dress\n",
      "40) Price: $34.99 , Item Name: Wide-leg Pants\n",
      "41) Price: $24.99 , Item Name: Ankle-length Slim-fit Pants\n",
      "42) Price: $9.99 , Item Name: Short Sweatshirt\n",
      "43) Price: $17.99 , Item Name: V-neck Blouse\n",
      "44) Price: $24.99 , Item Name: Short Skirt\n",
      "45) Price: $17.99 , Item Name: Mesh T-shirt\n",
      "46) Price: $59.99 , Item Name: Blouse with Embroidery\n",
      "47) Price: $34.99 , Item Name: Wide-cut Cotton Top\n",
      "48) Price: $54.99 , Item Name: Pleated Skirt\n",
      "49) Price: $69.99 , Item Name: Coat\n",
      "50) Price: $49.99 , Item Name: Wide-leg Pants\n",
      "51) Price: $29.99 , Item Name: Top\n",
      "52) Price: $69.99 , Item Name: Knit Mohair-blend Sweater\n",
      "53) Price: $69.99 , Item Name: Dress\n",
      "54) Price: $29.99 , Item Name: T-shirt with Embroidery\n",
      "55) Price: $49.99 , Item Name: Blouse with Ruffled Collar\n",
      "56) Price: $49.99 , Item Name: Pants\n",
      "57) Price: $19.99 , Item Name: Jersey Dress\n",
      "58) Price: $6.99 , Item Name: T-shirt\n",
      "59) Price: $6.99 , Item Name: T-shirt\n",
      "60) Price: $49.99 , Item Name: Blazer\n"
     ]
    }
   ],
   "source": [
    "for i in urls:\n",
    "    response = requests.get(url + i)\n",
    "    soup = BeautifulSoup(response.text, 'lxml')\n",
    "    items = soup.find_all('div', class_='col-lg-4 col-md-6 mb-4')\n",
    "    for i in items:\n",
    "        itemName = i.find('h4', class_='card-title').text.strip('\\n')\n",
    "        itemPrice = i.find('h5').text\n",
    "        print('%s) Price: %s , Item Name: %s' % (count, itemPrice, itemName))\n",
    "        count = count + 1"
   ]
  },
  {
   "cell_type": "code",
   "execution_count": null,
   "metadata": {},
   "outputs": [],
   "source": []
  }
 ],
 "metadata": {
  "kernelspec": {
   "display_name": "Python 3",
   "language": "python",
   "name": "python3"
  },
  "language_info": {
   "codemirror_mode": {
    "name": "ipython",
    "version": 3
   },
   "file_extension": ".py",
   "mimetype": "text/x-python",
   "name": "python",
   "nbconvert_exporter": "python",
   "pygments_lexer": "ipython3",
   "version": "3.11.1"
  },
  "orig_nbformat": 4
 },
 "nbformat": 4,
 "nbformat_minor": 2
}
