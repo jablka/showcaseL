{
  "cells": [
    {
      "cell_type": "code",
      "execution_count": 11,
      "metadata": {},
      "outputs": [],
      "source": [
        "# playing with the Pillow module.  \n",
        "# originally written in Colab Google environment, \n",
        "# so one had to always retreive the image file from a particular link."
      ]
    },
    {
      "attachments": {},
      "cell_type": "markdown",
      "metadata": {},
      "source": [
        "pozor, `Image.open()` sa má robiť s `with`  \n",
        "pozri oficialnu dokumentaciu:\n",
        "https://pillow.readthedocs.io/en/stable/reference/Image.html#PIL.Image.Image.resize "
      ]
    },
    {
      "cell_type": "code",
      "execution_count": 6,
      "metadata": {
        "id": "ltzzoQ_kdcxY"
      },
      "outputs": [],
      "source": [
        "import os\n",
        "from PIL import Image\n",
        "# musí to byť takto \n",
        "# https://stackoverflow.com/questions/11911480/python-pil-has-no-attribute-image\n",
        "\n",
        "from urllib.request import urlopen"
      ]
    },
    {
      "attachments": {},
      "cell_type": "markdown",
      "metadata": {},
      "source": [
        "stiahneme obrázok z internetu, ak je potrebné:"
      ]
    },
    {
      "cell_type": "code",
      "execution_count": 7,
      "metadata": {
        "id": "HonLucppfU0_"
      },
      "outputs": [
        {
          "name": "stdout",
          "output_type": "stream",
          "text": [
            "súbor existuje, pokračujte ďalej.\n"
          ]
        }
      ],
      "source": [
        "file_name = \"Stick_Figure_clip_art_hight.jpg\"\n",
        "\n",
        "if os.path.exists(file_name)==False: # \n",
        "\n",
        "    # note the difference between raw and blob in github links!\n",
        "    # \"https://github.com/jablka/showcaseL/raw/main/Pillow%20example/Stick_Figure_clip_art_hight.jpg\"\n",
        "    # \"https://github.com/jablka/showcaseL/blob/main/Pillow%20example/Stick_Figure_clip_art_hight.jpg\"\n",
        "\n",
        "    # získaj obrázok\n",
        "    url = r\"https://github.com/jablka/showcaseL/raw/main/Pillow%20example/Stick_Figure_clip_art_hight.jpg\"\n",
        "\n",
        "    # Download from URL\n",
        "    with urlopen(url) as file:\n",
        "        content = file.read()\n",
        "\n",
        "    # Save to file\n",
        "    with open(file_name, 'wb') as download:\n",
        "        download.write(content)\n",
        "    \n",
        "    print(\"done.\")\n",
        "\n",
        "else:\n",
        "    print(\"súbor existuje, pokračujte ďalej.\")"
      ]
    },
    {
      "cell_type": "code",
      "execution_count": 8,
      "metadata": {
        "colab": {
          "base_uri": "https://localhost:8080/"
        },
        "id": "mgCT4ZIF1xhC",
        "outputId": "4d3fbc23-fd08-43a7-996b-adcfd0b0eb42"
      },
      "outputs": [
        {
          "name": "stdout",
          "output_type": "stream",
          "text": [
            "(330, 588)\n",
            "(110, 196)\n"
          ]
        }
      ],
      "source": [
        "# načítame obrázok\n",
        "with Image.open(file_name) as obr:\n",
        "    \n",
        "    print(obr.size)\n",
        "\n",
        "    # zmenšíme rozmery\n",
        "    (width, height) = (obr.size[0] // 3 , obr.size[1] // 3) \n",
        "\n",
        "    obr = obr.resize((width, height))\n",
        "\n",
        "    print(obr.size)"
      ]
    },
    {
      "cell_type": "code",
      "execution_count": 9,
      "metadata": {
        "colab": {
          "base_uri": "https://localhost:8080/",
          "height": 158
        },
        "id": "fzMUpagRf9_A",
        "outputId": "60a41df7-afc6-422a-fc62-7c4bd0d11485"
      },
      "outputs": [
        {
          "data": {
            "image/png": "[encoded data removed]",
            "text/plain": [
              "<PIL.Image.Image image mode=RGB size=110x196>"
            ]
          },
          "execution_count": 9,
          "metadata": {},
          "output_type": "execute_result"
        }
      ],
      "source": [
        "# zobrazíme\n",
        "obr"
      ]
    },
    {
      "cell_type": "code",
      "execution_count": 10,
      "metadata": {
        "colab": {
          "base_uri": "https://localhost:8080/",
          "height": 158
        },
        "id": "4-s7enwLheaX",
        "outputId": "235017d6-5d1b-4ebf-942e-c70cb8746e93"
      },
      "outputs": [
        {
          "data": {
            "image/png": "[encoded data removed]",
            "text/plain": [
              "<PIL.Image.Image image mode=RGB size=110x196>"
            ]
          },
          "execution_count": 10,
          "metadata": {},
          "output_type": "execute_result"
        }
      ],
      "source": [
        "# otočíme\n",
        "obr.rotate(40)"
      ]
    },
    {
      "cell_type": "code",
      "execution_count": null,
      "metadata": {},
      "outputs": [],
      "source": []
    }
  ],
  "metadata": {
    "colab": {
      "collapsed_sections": [],
      "provenance": []
    },
    "kernelspec": {
      "display_name": "Python 3.10.7 64-bit",
      "language": "python",
      "name": "python3"
    },
    "language_info": {
      "codemirror_mode": {
        "name": "ipython",
        "version": 3
      },
      "file_extension": ".py",
      "mimetype": "text/x-python",
      "name": "python",
      "nbconvert_exporter": "python",
      "pygments_lexer": "ipython3",
      "version": "3.11.1"
    },
    "vscode": {
      "interpreter": {
        "hash": "52634da84371cba311ea128a5ea7cdc41ff074b781779e754b270ff9f8153cee"
      }
    }
  },
  "nbformat": 4,
  "nbformat_minor": 0
}
