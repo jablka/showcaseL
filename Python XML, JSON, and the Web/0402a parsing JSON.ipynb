{
 "cells": [
  {
   "cell_type": "code",
   "execution_count": 1,
   "metadata": {},
   "outputs": [],
   "source": [
    "# playing with Chapter 0402\n",
    "# in course:\n",
    "# Python: XML, JSON, and the Web\n",
    "# by Joe Marini\n",
    "# https://www.linkedin.com/learning/python-xml-json-and-the-web/"
   ]
  },
  {
   "cell_type": "code",
   "execution_count": 2,
   "metadata": {},
   "outputs": [],
   "source": [
    "# use the JSON module\n",
    "import json\n",
    "\n",
    "# define a string of JSON code\n",
    "jsonStr = '''{\n",
    "        \"sandwich\" : \"Reuben\",\n",
    "        \"toasted\" : true,\n",
    "        \"toppings\" : [\n",
    "            \"Thousand Island Dressing\",\n",
    "            \"Sauerkraut\",\n",
    "            \"Pickles\"\n",
    "        ],\n",
    "        \"price\" : 8.99\n",
    "    }'''"
   ]
  },
  {
   "cell_type": "code",
   "execution_count": 3,
   "metadata": {},
   "outputs": [
    {
     "data": {
      "text/plain": [
       "{'sandwich': 'Reuben',\n",
       " 'toasted': True,\n",
       " 'toppings': ['Thousand Island Dressing', 'Sauerkraut', 'Pickles'],\n",
       " 'price': 8.99}"
      ]
     },
     "execution_count": 3,
     "metadata": {},
     "output_type": "execute_result"
    }
   ],
   "source": [
    "# parse the JSON data using loads\n",
    "data = json.loads(jsonStr) # https://docs.python.org/3/library/json.html#json.loads\n",
    "data"
   ]
  },
  {
   "cell_type": "code",
   "execution_count": 4,
   "metadata": {},
   "outputs": [
    {
     "data": {
      "text/plain": [
       "dict"
      ]
     },
     "execution_count": 4,
     "metadata": {},
     "output_type": "execute_result"
    }
   ],
   "source": [
    "type(data)"
   ]
  },
  {
   "cell_type": "code",
   "execution_count": 5,
   "metadata": {},
   "outputs": [
    {
     "name": "stdout",
     "output_type": "stream",
     "text": [
      "Sandwich: Reuben\n",
      "\n",
      "And it's toasted!\n",
      "\n",
      "Topping: Thousand Island Dressing\n",
      "Topping: Sauerkraut\n",
      "Topping: Pickles\n"
     ]
    }
   ],
   "source": [
    "# print information from the data structure\n",
    "print(\"Sandwich: \" + data['sandwich']); print()\n",
    "\n",
    "if (data['toasted']):\n",
    "    print(\"And it's toasted!\"); print()\n",
    "    \n",
    "for topping in data['toppings']:\n",
    "    print(\"Topping: \" + topping)"
   ]
  },
  {
   "cell_type": "code",
   "execution_count": null,
   "metadata": {},
   "outputs": [],
   "source": []
  }
 ],
 "metadata": {
  "kernelspec": {
   "display_name": "Python 3",
   "language": "python",
   "name": "python3"
  },
  "language_info": {
   "codemirror_mode": {
    "name": "ipython",
    "version": 3
   },
   "file_extension": ".py",
   "mimetype": "text/x-python",
   "name": "python",
   "nbconvert_exporter": "python",
   "pygments_lexer": "ipython3",
   "version": "3.11.1"
  },
  "orig_nbformat": 4
 },
 "nbformat": 4,
 "nbformat_minor": 2
}
