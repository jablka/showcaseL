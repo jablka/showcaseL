{
 "cells": [
  {
   "cell_type": "code",
   "execution_count": null,
   "metadata": {},
   "outputs": [],
   "source": [
    "# playing with Chapter 0404\n",
    "# in course:\n",
    "# Python: XML, JSON, and the Web\n",
    "# by Joe Marini\n",
    "# https://www.linkedin.com/learning/python-xml-json-and-the-web/"
   ]
  },
  {
   "cell_type": "code",
   "execution_count": 12,
   "metadata": {},
   "outputs": [],
   "source": [
    "import requests\n",
    "import json"
   ]
  },
  {
   "cell_type": "code",
   "execution_count": 13,
   "metadata": {},
   "outputs": [
    {
     "data": {
      "text/plain": [
       "<Response [200]>"
      ]
     },
     "execution_count": 13,
     "metadata": {},
     "output_type": "execute_result"
    }
   ],
   "source": [
    "# Use requests to issue a standard HTTP GET request\n",
    "url = \"http://httpbin.org/json\"\n",
    "result = requests.get(url)\n",
    "result"
   ]
  },
  {
   "cell_type": "code",
   "execution_count": 14,
   "metadata": {},
   "outputs": [
    {
     "name": "stdout",
     "output_type": "stream",
     "text": [
      "{\n",
      "    \"slideshow\": {\n",
      "        \"author\": \"Yours Truly\",\n",
      "        \"date\": \"date of publication\",\n",
      "        \"slides\": [\n",
      "            {\n",
      "                \"title\": \"Wake up to WonderWidgets!\",\n",
      "                \"type\": \"all\"\n",
      "            },\n",
      "            {\n",
      "                \"items\": [\n",
      "                    \"Why <em>WonderWidgets</em> are great\",\n",
      "                    \"Who <em>buys</em> WonderWidgets\"\n",
      "                ],\n",
      "                \"title\": \"Overview\",\n",
      "                \"type\": \"all\"\n",
      "            }\n",
      "        ],\n",
      "        \"title\": \"Sample Slide Show\"\n",
      "    }\n",
      "}\n"
     ]
    }
   ],
   "source": [
    "# Use the built-in JSON function to return parsed data\n",
    "dataobj = result.json()\n",
    "print(json.dumps(dataobj,indent=4))"
   ]
  },
  {
   "cell_type": "code",
   "execution_count": 15,
   "metadata": {},
   "outputs": [
    {
     "data": {
      "text/plain": [
       "['slideshow']"
      ]
     },
     "execution_count": 15,
     "metadata": {},
     "output_type": "execute_result"
    }
   ],
   "source": [
    "# Access data in the python object\n",
    "list(dataobj.keys())"
   ]
  },
  {
   "cell_type": "code",
   "execution_count": 16,
   "metadata": {},
   "outputs": [
    {
     "data": {
      "text/plain": [
       "'Sample Slide Show'"
      ]
     },
     "execution_count": 16,
     "metadata": {},
     "output_type": "execute_result"
    }
   ],
   "source": [
    "dataobj['slideshow']['title']"
   ]
  },
  {
   "cell_type": "code",
   "execution_count": 17,
   "metadata": {},
   "outputs": [
    {
     "name": "stdout",
     "output_type": "stream",
     "text": [
      "There are 2 slides\n"
     ]
    }
   ],
   "source": [
    "print(f\"There are {len(dataobj['slideshow']['slides'])} slides\")"
   ]
  },
  {
   "cell_type": "code",
   "execution_count": null,
   "metadata": {},
   "outputs": [],
   "source": []
  }
 ],
 "metadata": {
  "kernelspec": {
   "display_name": "Python 3",
   "language": "python",
   "name": "python3"
  },
  "language_info": {
   "codemirror_mode": {
    "name": "ipython",
    "version": 3
   },
   "file_extension": ".py",
   "mimetype": "text/x-python",
   "name": "python",
   "nbconvert_exporter": "python",
   "pygments_lexer": "ipython3",
   "version": "3.11.1"
  },
  "orig_nbformat": 4
 },
 "nbformat": 4,
 "nbformat_minor": 2
}
