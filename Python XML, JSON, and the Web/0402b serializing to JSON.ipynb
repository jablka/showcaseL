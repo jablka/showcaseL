{
 "cells": [
  {
   "cell_type": "code",
   "execution_count": 6,
   "metadata": {},
   "outputs": [],
   "source": [
    "# playing with Chapter 0402\n",
    "# in course:\n",
    "# Python: XML, JSON, and the Web\n",
    "# by Joe Marini\n",
    "# https://www.linkedin.com/learning/python-xml-json-and-the-web/"
   ]
  },
  {
   "cell_type": "code",
   "execution_count": 7,
   "metadata": {},
   "outputs": [],
   "source": [
    "# use the JSON module\n",
    "import json"
   ]
  },
  {
   "cell_type": "code",
   "execution_count": 8,
   "metadata": {},
   "outputs": [],
   "source": [
    "# define a python ditcionary\n",
    "pythonData = {\n",
    "    \"sandwich\": \"Reuben\",\n",
    "    \"toasted\": True,\n",
    "    \"toppings\": [\"Thousand Island Dressing\",\n",
    "                    \"Sauerkraut\",\n",
    "                    \"Pickles\"\n",
    "                    ],\n",
    "    \"price\": 8.99\n",
    "}"
   ]
  },
  {
   "cell_type": "code",
   "execution_count": 9,
   "metadata": {},
   "outputs": [
    {
     "name": "stdout",
     "output_type": "stream",
     "text": [
      "JSON Data: --------\n",
      "{\n",
      "    \"sandwich\": \"Reuben\",\n",
      "    \"toasted\": true,\n",
      "    \"toppings\": [\n",
      "        \"Thousand Island Dressing\",\n",
      "        \"Sauerkraut\",\n",
      "        \"Pickles\"\n",
      "    ],\n",
      "    \"price\": 8.99\n",
      "}\n"
     ]
    }
   ],
   "source": [
    "# serialize to JSON using dumps\n",
    "jsonStr = json.dumps(pythonData, indent=4) # https://docs.python.org/3/library/json.html#json.dumps\n",
    "\n",
    "# print the resulting JSON string\n",
    "print(\"JSON Data: --------\")\n",
    "print(jsonStr)"
   ]
  },
  {
   "cell_type": "code",
   "execution_count": 10,
   "metadata": {},
   "outputs": [
    {
     "data": {
      "text/plain": [
       "str"
      ]
     },
     "execution_count": 10,
     "metadata": {},
     "output_type": "execute_result"
    }
   ],
   "source": [
    "type(jsonStr)"
   ]
  },
  {
   "cell_type": "code",
   "execution_count": null,
   "metadata": {},
   "outputs": [],
   "source": []
  }
 ],
 "metadata": {
  "kernelspec": {
   "display_name": "Python 3",
   "language": "python",
   "name": "python3"
  },
  "language_info": {
   "codemirror_mode": {
    "name": "ipython",
    "version": 3
   },
   "file_extension": ".py",
   "mimetype": "text/x-python",
   "name": "python",
   "nbconvert_exporter": "python",
   "pygments_lexer": "ipython3",
   "version": "3.11.1"
  },
  "orig_nbformat": 4
 },
 "nbformat": 4,
 "nbformat_minor": 2
}
