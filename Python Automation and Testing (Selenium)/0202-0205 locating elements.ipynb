{
 "cells": [
  {
   "cell_type": "markdown",
   "metadata": {},
   "source": [
    "### my notes, covering chapters:  \n",
    "0202 Locating elements by ID  \n",
    "0203 Locating elements by name  \n",
    "0204 Locating elements by XPath  \n",
    "0205 Locating elements by class "
   ]
  },
  {
   "cell_type": "code",
   "execution_count": null,
   "metadata": {},
   "outputs": [],
   "source": [
    "# NOTE:\n",
    "# the code needed to be updated to conform to the latest documentation https://selenium-python.readthedocs.io/locating-elements.html \n",
    "# so using function: driver.find_element()"
   ]
  },
  {
   "cell_type": "code",
   "execution_count": 1,
   "metadata": {},
   "outputs": [],
   "source": [
    "from selenium import webdriver\n",
    "from selenium.webdriver.common.by import By # added\n",
    "\n",
    "driver= webdriver.Firefox()\n",
    "driver.get(\"\") # here goes the address to your 'html_code_02.html' file in the following format: 'file:///C:/projects/html_code_02.html'"
   ]
  },
  {
   "cell_type": "code",
   "execution_count": null,
   "metadata": {},
   "outputs": [],
   "source": [
    "# login_form = driver.find_element_by_id('loginForm')\n",
    "login_form = driver.find_element(By.ID,'loginForm')\n",
    "print(\"My login form element is:\")\n",
    "print(login_form)"
   ]
  },
  {
   "cell_type": "code",
   "execution_count": null,
   "metadata": {},
   "outputs": [],
   "source": [
    "# username = driver.find_element_by_name('username')\n",
    "username = driver.find_element(By.NAME,'username')\n",
    "print(\"My input element is:\")\n",
    "print(username)"
   ]
  },
  {
   "cell_type": "code",
   "execution_count": null,
   "metadata": {},
   "outputs": [],
   "source": [
    "# login_form_absolute = driver.find_element_by_xpath(\"/html/body/form[1]\")\n",
    "# login_form_relative = driver.find_element_by_xpath(\"//form[1]\") # backslashes meaning levels...\n",
    "# login_form_id = driver.find_element_by_xpath(\"//form[@id='loginForm']\")\n",
    "\n",
    "login_form_absolute = driver.find_element(By.XPATH,\"/html/body/form[1]\")\n",
    "login_form_relative = driver.find_element(By.XPATH,\"//form[1]\") # backslashes meaning levels...\n",
    "login_form_id = driver.find_element(By.XPATH,\"//form[@id='loginForm']\") # even more specific\n",
    "\n",
    "print(\"My login form is:\")\n",
    "print(login_form_absolute)\n",
    "print(login_form_relative)\n",
    "print(login_form_id)"
   ]
  },
  {
   "cell_type": "code",
   "execution_count": null,
   "metadata": {},
   "outputs": [],
   "source": [
    "# content = driver.find_element_by_class_name('content')\n",
    "content = driver.find_element(By.CLASS_NAME,'content')\n",
    "print(\"My class element is:\")\n",
    "print(content)"
   ]
  },
  {
   "cell_type": "code",
   "execution_count": 6,
   "metadata": {},
   "outputs": [],
   "source": [
    "driver.close()"
   ]
  },
  {
   "cell_type": "code",
   "execution_count": null,
   "metadata": {},
   "outputs": [],
   "source": []
  }
 ],
 "metadata": {
  "kernelspec": {
   "display_name": "Python 3",
   "language": "python",
   "name": "python3"
  },
  "language_info": {
   "codemirror_mode": {
    "name": "ipython",
    "version": 3
   },
   "file_extension": ".py",
   "mimetype": "text/x-python",
   "name": "python",
   "nbconvert_exporter": "python",
   "pygments_lexer": "ipython3",
   "version": "3.11.1"
  },
  "orig_nbformat": 4
 },
 "nbformat": 4,
 "nbformat_minor": 2
}
