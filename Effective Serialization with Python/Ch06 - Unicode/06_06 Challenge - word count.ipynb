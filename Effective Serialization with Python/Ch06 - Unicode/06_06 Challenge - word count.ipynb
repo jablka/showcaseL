{
 "cells": [
  {
   "attachments": {},
   "cell_type": "markdown",
   "metadata": {},
   "source": [
    "## zadanie:"
   ]
  },
  {
   "cell_type": "code",
   "execution_count": 1,
   "metadata": {},
   "outputs": [
    {
     "name": "stdout",
     "output_type": "stream",
     "text": [
      "PYTHON         \t1\n",
      "Gdańsk         \t1\n",
      "python         \t1\n",
      "Fluß           \t1\n",
      "gdańsk        \t1\n",
      "σίγμα          \t1\n",
      "Python         \t1\n",
      "fluss          \t1\n",
      "Σίγμα          \t1\n",
      "Gdańsk        \t1\n"
     ]
    }
   ],
   "source": [
    "\"\"\"Print count of words (ignoring case)\"\"\"\n",
    "from collections import Counter\n",
    "\n",
    "wc = Counter()\n",
    "with open('06_06_words.txt', encoding='utf-8') as fp:\n",
    "    for word in fp:\n",
    "        word = word.strip()\n",
    "        wc[word] += 1\n",
    "\n",
    "for word, count in wc.most_common():\n",
    "    print(f'{word:<15}\\t{count}') # left align and 15 characters long"
   ]
  },
  {
   "attachments": {},
   "cell_type": "markdown",
   "metadata": {},
   "source": [
    "## prvý pokus, `str.casefold()`"
   ]
  },
  {
   "cell_type": "code",
   "execution_count": 2,
   "metadata": {},
   "outputs": [
    {
     "name": "stdout",
     "output_type": "stream",
     "text": [
      "python         \t3\n",
      "fluss          \t2\n",
      "gdańsk        \t2\n",
      "σίγμα          \t2\n",
      "gdańsk         \t1\n"
     ]
    }
   ],
   "source": [
    "\"\"\"Print count of words (ignoring case)\"\"\"\n",
    "from collections import Counter\n",
    "\n",
    "wc = Counter()\n",
    "with open('06_06_words.txt', encoding='utf-8') as fp:\n",
    "    for word in fp:\n",
    "        word = word.strip().casefold() # https://docs.python.org/3/library/stdtypes.html#str.casefold\n",
    "        wc[word] += 1\n",
    "\n",
    "for word, count in wc.most_common():\n",
    "    print(f'{word:<15}\\t{count}')"
   ]
  },
  {
   "cell_type": "code",
   "execution_count": 3,
   "metadata": {},
   "outputs": [
    {
     "data": {
      "text/plain": [
       "False"
      ]
     },
     "execution_count": 3,
     "metadata": {},
     "output_type": "execute_result"
    }
   ],
   "source": [
    "'gdańsk' == 'gdańsk'"
   ]
  },
  {
   "cell_type": "code",
   "execution_count": 4,
   "metadata": {},
   "outputs": [],
   "source": [
    "# normalizovať!"
   ]
  },
  {
   "attachments": {},
   "cell_type": "markdown",
   "metadata": {},
   "source": [
    "## druhý pokus, `unicodedata.normalize()`"
   ]
  },
  {
   "cell_type": "code",
   "execution_count": 5,
   "metadata": {},
   "outputs": [
    {
     "name": "stdout",
     "output_type": "stream",
     "text": [
      "python         \t3\n",
      "gdańsk         \t3\n",
      "fluss          \t2\n",
      "σίγμα          \t2\n"
     ]
    }
   ],
   "source": [
    "import unicodedata\n",
    "\n",
    "\"\"\"Print count of words (ignoring case)\"\"\"\n",
    "from collections import Counter\n",
    "\n",
    "wc = Counter()\n",
    "with open('06_06_words.txt', encoding='utf-8') as fp:\n",
    "    for word in fp:\n",
    "        word = word.strip().casefold() # https://docs.python.org/3/library/stdtypes.html#str.casefold\n",
    "        word = unicodedata.normalize('NFKC', word) # https://docs.python.org/3/library/unicodedata.html#unicodedata.normalize\n",
    "        wc[word] += 1\n",
    "\n",
    "for word, count in wc.most_common():\n",
    "    print(f'{word:<15}\\t{count}')"
   ]
  },
  {
   "cell_type": "code",
   "execution_count": null,
   "metadata": {},
   "outputs": [],
   "source": []
  }
 ],
 "metadata": {
  "kernelspec": {
   "display_name": "Python 3",
   "language": "python",
   "name": "python3"
  },
  "language_info": {
   "codemirror_mode": {
    "name": "ipython",
    "version": 3
   },
   "file_extension": ".py",
   "mimetype": "text/x-python",
   "name": "python",
   "nbconvert_exporter": "python",
   "pygments_lexer": "ipython3",
   "version": "3.11.1"
  },
  "orig_nbformat": 4
 },
 "nbformat": 4,
 "nbformat_minor": 2
}
