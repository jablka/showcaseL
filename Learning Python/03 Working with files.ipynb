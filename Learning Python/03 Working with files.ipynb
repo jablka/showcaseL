{
 "cells": [
  {
   "cell_type": "code",
   "execution_count": 1,
   "metadata": {},
   "outputs": [
    {
     "name": "stdout",
     "output_type": "stream",
     "text": [
      "Pracujem v:\n",
      "'c:\\SampleFolder'\n",
      "\n",
      "adresár:\n",
      "[SampleFolder]\n",
      "\n",
      "obsah adresára:\n",
      "['03 Working with Files.txt', 'challenge.py', 'challenge_hotove.ipynb', 'neviemco.ipynb', 'New Folder']\n",
      "\n",
      "podrobnosti:\n",
      "-> '03 Working with Files.txt' : 111 bytes\n",
      "-> 'challenge.py' : 825 bytes\n",
      "-> 'challenge_hotove.ipynb' : 2497 bytes\n",
      "-> 'neviemco.ipynb' : 1788 bytes\n",
      "-> [New Folder]\n",
      "------------------\n",
      "total: 5221 bytes\n"
     ]
    }
   ],
   "source": [
    "# playing with the challenge \n",
    "# in chapter 3. Working with Files\n",
    "# in course Learning Python by Joe Marini https://www.linkedin.com/learning/learning-python-14393370/\n",
    "#\n",
    "\n",
    "import os\n",
    "\n",
    "total = 0\n",
    "\n",
    "cwd = os.getcwd() # get current working directory \n",
    "print(f\"Pracujem v:\\n'{cwd}'\") \n",
    "\n",
    "print(f'\\nadresár:\\n[{os.path.basename(cwd)}]') # get just the directory name\n",
    "\n",
    "# list the directory\n",
    "listed = os.listdir()\n",
    "\n",
    "print()\n",
    "print(f'obsah adresára:\\n{listed}')\n",
    "\n",
    "print()\n",
    "print('podrobnosti:')\n",
    "for i in listed:\n",
    "    if os.path.isfile(i):\n",
    "        size = os.path.getsize(i)\n",
    "        print(f\"-> '{i}' : {size} bytes\")\n",
    "        total = total+size\n",
    "    else:\n",
    "        # size = os.path.getsize(i) # folders don't have this property\n",
    "        print(f\"-> [{i}]\")\n",
    "        # total = total+size # \n",
    "\n",
    "print(\"------------------\")\n",
    "print(\"total:\", total, \"bytes\")"
   ]
  },
  {
   "cell_type": "code",
   "execution_count": null,
   "metadata": {},
   "outputs": [],
   "source": []
  }
 ],
 "metadata": {
  "kernelspec": {
   "display_name": "Python 3",
   "language": "python",
   "name": "python3"
  },
  "language_info": {
   "codemirror_mode": {
    "name": "ipython",
    "version": 3
   },
   "file_extension": ".py",
   "mimetype": "text/x-python",
   "name": "python",
   "nbconvert_exporter": "python",
   "pygments_lexer": "ipython3",
   "version": "3.11.1"
  },
  "orig_nbformat": 4
 },
 "nbformat": 4,
 "nbformat_minor": 2
}
