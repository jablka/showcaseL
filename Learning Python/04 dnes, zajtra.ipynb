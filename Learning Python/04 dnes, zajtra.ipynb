{
 "cells": [
  {
   "cell_type": "code",
   "execution_count": null,
   "metadata": {},
   "outputs": [],
   "source": [
    "# playing with datetime and calendar modules\n",
    "#\n",
    "# inspired by chapter 4. Dates and Times\n",
    "# in the course Learning Python by Joe Marini https://www.linkedin.com/learning/learning-python-14393370/"
   ]
  },
  {
   "cell_type": "code",
   "execution_count": 10,
   "metadata": {},
   "outputs": [],
   "source": [
    "import datetime\n",
    "import calendar"
   ]
  },
  {
   "cell_type": "code",
   "execution_count": 11,
   "metadata": {},
   "outputs": [
    {
     "name": "stdout",
     "output_type": "stream",
     "text": [
      "dnes je pondelok\n",
      "Monday\n",
      "\n",
      "zajtra bude utorok\n",
      "Tuesday\n"
     ]
    }
   ],
   "source": [
    "datum = datetime.date.today()\n",
    "day_number = datum.weekday()\n",
    "\n",
    "dni = ['pondelok','utorok','streda','štvrtok','piatok','sobota','nedeľa']\n",
    "\n",
    "print(f\"dnes je {dni[day_number]}\")\n",
    "print(calendar.day_name[day_number])\n",
    "print()\n",
    "\n",
    "print(f\"zajtra bude {dni[(day_number+1)%7]}\")\n",
    "print(calendar.day_name[(day_number+1)%7] )\n"
   ]
  },
  {
   "cell_type": "code",
   "execution_count": 12,
   "metadata": {},
   "outputs": [
    {
     "name": "stdout",
     "output_type": "stream",
     "text": [
      "\n",
      "January\n",
      "February\n",
      "March\n",
      "April\n",
      "May\n",
      "June\n",
      "July\n",
      "August\n",
      "September\n",
      "October\n",
      "November\n",
      "December\n"
     ]
    }
   ],
   "source": [
    "for name in calendar.month_name:\n",
    "    print(name)"
   ]
  },
  {
   "cell_type": "code",
   "execution_count": 13,
   "metadata": {},
   "outputs": [
    {
     "name": "stdout",
     "output_type": "stream",
     "text": [
      "Monday\n",
      "Tuesday\n",
      "Wednesday\n",
      "Thursday\n",
      "Friday\n",
      "Saturday\n",
      "Sunday\n"
     ]
    }
   ],
   "source": [
    "for day in calendar.day_name:\n",
    "    print(day)"
   ]
  },
  {
   "cell_type": "code",
   "execution_count": null,
   "metadata": {},
   "outputs": [],
   "source": []
  }
 ],
 "metadata": {
  "kernelspec": {
   "display_name": "Python 3",
   "language": "python",
   "name": "python3"
  },
  "language_info": {
   "codemirror_mode": {
    "name": "ipython",
    "version": 3
   },
   "file_extension": ".py",
   "mimetype": "text/x-python",
   "name": "python",
   "nbconvert_exporter": "python",
   "pygments_lexer": "ipython3",
   "version": "3.11.1"
  },
  "orig_nbformat": 4
 },
 "nbformat": 4,
 "nbformat_minor": 2
}
