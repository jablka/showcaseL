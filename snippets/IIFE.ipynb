{
 "cells": [
  {
   "cell_type": "markdown",
   "metadata": {},
   "source": [
    "IIFE is a feature in javascript world:  \n",
    "https://en.wikipedia.org/wiki/Immediately_invoked_function_expression  "
   ]
  },
  {
   "cell_type": "markdown",
   "metadata": {},
   "source": [
    "But there is something similar or interesting in Python too:  "
   ]
  },
  {
   "cell_type": "code",
   "execution_count": 5,
   "metadata": {},
   "outputs": [
    {
     "name": "stdout",
     "output_type": "stream",
     "text": [
      "function executed without calling it\n"
     ]
    }
   ],
   "source": [
    "@lambda _:_()\n",
    "def my_func():\n",
    "    print(\"function executed without calling it\")\n",
    "    return 'success'"
   ]
  },
  {
   "cell_type": "code",
   "execution_count": 6,
   "metadata": {},
   "outputs": [
    {
     "data": {
      "text/plain": [
       "str"
      ]
     },
     "execution_count": 6,
     "metadata": {},
     "output_type": "execute_result"
    }
   ],
   "source": [
    "type(my_func) # my_func now becomes that which is \"returned\" i.e. string \"success\"."
   ]
  },
  {
   "cell_type": "code",
   "execution_count": 7,
   "metadata": {},
   "outputs": [
    {
     "data": {
      "text/plain": [
       "'success'"
      ]
     },
     "execution_count": 7,
     "metadata": {},
     "output_type": "execute_result"
    }
   ],
   "source": [
    "my_func"
   ]
  },
  {
   "cell_type": "markdown",
   "metadata": {},
   "source": [
    "credits to Frederico aka Indently:  \n",
    "\n",
    "Is THIS Decorator Style NEW In Python? (IIFE)  \n",
    "https://www.youtube.com/watch?v=n4SkpAGKqos\n",
    "\n",
    "THIS Will Scare Python Devs #python #code #programming  \n",
    "https://www.youtube.com/watch?v=9b99YvATJ00"
   ]
  }
 ],
 "metadata": {
  "kernelspec": {
   "display_name": "Python 3",
   "language": "python",
   "name": "python3"
  },
  "language_info": {
   "codemirror_mode": {
    "name": "ipython",
    "version": 3
   },
   "file_extension": ".py",
   "mimetype": "text/x-python",
   "name": "python",
   "nbconvert_exporter": "python",
   "pygments_lexer": "ipython3",
   "version": "3.12.0"
  }
 },
 "nbformat": 4,
 "nbformat_minor": 2
}
