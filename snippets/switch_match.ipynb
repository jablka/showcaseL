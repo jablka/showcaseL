{
 "cells": [
  {
   "cell_type": "code",
   "execution_count": 1,
   "metadata": {},
   "outputs": [],
   "source": [
    "# Why Doesn't Python Have Switch/Case?\n",
    "# June 9, 2015\n",
    "# https://daniel.feldroy.com/posts/why-doesnt-python-have-switch-case\n",
    "\n",
    "# MK note: since Python 3.10 match/case is implemented,\n",
    "# but still this is a nice code snippet,\n",
    "# from above-mentioned article, slightly adjusted by me."
   ]
  },
  {
   "cell_type": "code",
   "execution_count": 2,
   "metadata": {},
   "outputs": [],
   "source": [
    "def zero():\n",
    "    return \"zero\"\n",
    "\n",
    "def one():\n",
    "    return \"one\"\n",
    "\n",
    "def numbers_to_functions_to_strings(argument = None):\n",
    "    switcher = {\n",
    "        0: zero,\n",
    "        1: one,\n",
    "        2: lambda: \"two\",\n",
    "        None : lambda: 'you have to pass some argument' \n",
    "    }\n",
    "\n",
    "    # Get the function from switcher dictionary\n",
    "    func = switcher.get(argument, lambda: \"not implemented\")\n",
    "\n",
    "    # Execute the function\n",
    "    return func()"
   ]
  },
  {
   "cell_type": "code",
   "execution_count": 3,
   "metadata": {},
   "outputs": [
    {
     "name": "stdout",
     "output_type": "stream",
     "text": [
      "you have to pass some argument\n",
      "zero\n",
      "one\n",
      "two\n",
      "not implemented\n"
     ]
    }
   ],
   "source": [
    "print(numbers_to_functions_to_strings())\n",
    "print(numbers_to_functions_to_strings(0))\n",
    "print(numbers_to_functions_to_strings(1))\n",
    "print(numbers_to_functions_to_strings(2))\n",
    "print(numbers_to_functions_to_strings(3))"
   ]
  }
 ],
 "metadata": {
  "kernelspec": {
   "display_name": "Python 3",
   "language": "python",
   "name": "python3"
  },
  "language_info": {
   "codemirror_mode": {
    "name": "ipython",
    "version": 3
   },
   "file_extension": ".py",
   "mimetype": "text/x-python",
   "name": "python",
   "nbconvert_exporter": "python",
   "pygments_lexer": "ipython3",
   "version": "3.12.0"
  }
 },
 "nbformat": 4,
 "nbformat_minor": 2
}
