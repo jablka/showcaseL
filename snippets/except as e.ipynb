{
 "cells": [
  {
   "cell_type": "code",
   "execution_count": 7,
   "metadata": {},
   "outputs": [],
   "source": [
    "# watch out for this:\n",
    "\n",
    "# When passing an Exception to the variable that is already defined,\n",
    "# it will not be accessible after the try~except block.\n",
    "# The variable gets totally deleted from the scope."
   ]
  },
  {
   "cell_type": "markdown",
   "metadata": {},
   "source": [
    "credits to Frederico aka Indently:  \n",
    "\n",
    "Today I Learned THIS Unexpected Feature In Python #python #programming  \n",
    "https://www.youtube.com/shorts/Yo6KSHdImkQ"
   ]
  },
  {
   "cell_type": "code",
   "execution_count": 8,
   "metadata": {},
   "outputs": [
    {
     "name": "stdout",
     "output_type": "stream",
     "text": [
      "Converting H2O to int...\n",
      "ERROR: invalid literal for int() with base 10: 'H2O'\n"
     ]
    },
    {
     "ename": "NameError",
     "evalue": "name 'e' is not defined",
     "output_type": "error",
     "traceback": [
      "\u001b[1;31m---------------------------------------------------------------------------\u001b[0m",
      "\u001b[1;31mNameError\u001b[0m                                 Traceback (most recent call last)",
      "Cell \u001b[1;32mIn[8], line 9\u001b[0m\n\u001b[0;32m      6\u001b[0m \u001b[38;5;28;01mexcept\u001b[39;00m \u001b[38;5;167;01mValueError\u001b[39;00m \u001b[38;5;28;01mas\u001b[39;00m e: \n\u001b[0;32m      7\u001b[0m     \u001b[38;5;28mprint\u001b[39m(\u001b[38;5;124m'\u001b[39m\u001b[38;5;124mERROR:\u001b[39m\u001b[38;5;124m'\u001b[39m, e)\n\u001b[1;32m----> 9\u001b[0m \u001b[43me\u001b[49m \u001b[38;5;66;03m# is now undefined\u001b[39;00m\n",
      "\u001b[1;31mNameError\u001b[0m: name 'e' is not defined"
     ]
    }
   ],
   "source": [
    "e = 'H2O'\n",
    "\n",
    "try:\n",
    "    print(f'Converting {e} to int...')\n",
    "    print(int(e))\n",
    "except ValueError as e: \n",
    "    print('ERROR:', e)\n",
    "\n",
    "e # is now undefined"
   ]
  },
  {
   "cell_type": "code",
   "execution_count": null,
   "metadata": {},
   "outputs": [],
   "source": []
  }
 ],
 "metadata": {
  "kernelspec": {
   "display_name": "Python 3",
   "language": "python",
   "name": "python3"
  },
  "language_info": {
   "codemirror_mode": {
    "name": "ipython",
    "version": 3
   },
   "file_extension": ".py",
   "mimetype": "text/x-python",
   "name": "python",
   "nbconvert_exporter": "python",
   "pygments_lexer": "ipython3",
   "version": "3.12.0"
  }
 },
 "nbformat": 4,
 "nbformat_minor": 2
}
